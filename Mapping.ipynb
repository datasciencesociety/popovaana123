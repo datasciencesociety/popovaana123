{
 "cells": [
  {
   "cell_type": "code",
   "execution_count": 1,
   "metadata": {},
   "outputs": [
    {
     "ename": "ERROR",
     "evalue": "Error in makeIcon(iconUrl = \"https://cdn3.iconfinder.com/data/icons/buildings-and-real-estates/30/factory-pollution-512.png\", : could not find function \"makeIcon\"\n",
     "output_type": "error",
     "traceback": [
      "Error in makeIcon(iconUrl = \"https://cdn3.iconfinder.com/data/icons/buildings-and-real-estates/30/factory-pollution-512.png\", : could not find function \"makeIcon\"\nTraceback:\n"
     ]
    }
   ],
   "source": []
  },
  {
   "cell_type": "code",
   "execution_count": null,
   "metadata": {},
   "outputs": [],
   "source": []
  }
 ],
 "metadata": {
  "kernelspec": {
   "display_name": "R",
   "language": "R",
   "name": "ir"
  },
  "language_info": {
   "codemirror_mode": "r",
   "file_extension": ".r",
   "mimetype": "text/x-r-source",
   "name": "R",
   "pygments_lexer": "r",
   "version": "3.5.1"
  }
 },
 "nbformat": 4,
 "nbformat_minor": 2
}
